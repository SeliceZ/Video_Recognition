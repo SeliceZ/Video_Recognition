{
  "nbformat": 4,
  "nbformat_minor": 0,
  "metadata": {
    "colab": {
      "name": "3D CNN.ipynb",
      "provenance": [],
      "collapsed_sections": []
    },
    "kernelspec": {
      "name": "python3",
      "display_name": "Python 3"
    },
    "language_info": {
      "name": "python"
    },
    "accelerator": "GPU"
  },
  "cells": [
    {
      "cell_type": "markdown",
      "metadata": {
        "id": "beRdRnhrCdVx"
      },
      "source": [
        "# 682.Final Project - Video Classfication"
      ]
    },
    {
      "cell_type": "code",
      "metadata": {
        "colab": {
          "base_uri": "https://localhost:8080/"
        },
        "id": "cxn3aZOXIxhE",
        "outputId": "bf82d474-3b09-4bc7-97e0-db22f8cf9dc2"
      },
      "source": [
        "try:\n",
        "    from google.colab import drive\n",
        "    drive.mount('/content/drive')\n",
        "except:\n",
        "    print(\"Mounting Failed.\")"
      ],
      "execution_count": 1,
      "outputs": [
        {
          "output_type": "stream",
          "text": [
            "Mounted at /content/drive\n"
          ],
          "name": "stdout"
        }
      ]
    },
    {
      "cell_type": "code",
      "metadata": {
        "id": "fkBpwo2kJGOF",
        "colab": {
          "base_uri": "https://localhost:8080/"
        },
        "outputId": "edf621a5-024a-47f3-df71-5f6bd3e8d0ba"
      },
      "source": [
        "!python \"/content/drive/MyDrive/video-classification-99ebf204f0b1d737e38bc0d8b65aca128a57d7b1/Conv3D/UCF101_3DCNN.py\""
      ],
      "execution_count": null,
      "outputs": [
        {
          "output_type": "stream",
          "text": [
            "[1 0 2 2]\n",
            "/usr/local/lib/python3.7/dist-packages/torch/utils/data/dataloader.py:477: UserWarning: This DataLoader will create 4 worker processes in total. Our suggested max number of worker in current system is 2, which is smaller than what this DataLoader is going to create. Please be aware that excessive worker creation might get DataLoader running slow or even freeze, lower the worker number to avoid potential slowness/freeze if necessary.\n",
            "  cpuset_checked))\n",
            "tcmalloc: large alloc 1279918080 bytes == 0x5613ae060000 @  0x7f432c507b6b 0x7f432c527379 0x7f42cb19a25e 0x7f42cb19b9d2 0x7f4307e7e8e6 0x7f43082e0dd9 0x7f43087eb77a 0x7f43087b6ef9 0x7f430876d657 0x7f4308611929 0x7f4319fddc07 0x7f4319fdf584 0x7f4319d89d0a 0x5613a89bcc25 0x5613a897d7f2 0x5613a89f163d 0x5613a89ebe0d 0x5613a897ee11 0x5613a89bfd39 0x5613a89bcc84 0x5613a897d7f2 0x5613a89f163d 0x5613a89ebe0d 0x5613a897f02c 0x5613a89bfd39 0x5613a89bcc84 0x5613a897d8e9 0x5613a89f1ade 0x5613a89ebb0e 0x5613a89eb813 0x5613a8ab5592\n",
            "\n",
            "Test set (1 samples): Average loss: 4.9156, Accuracy: 0.00%\n",
            "\n",
            "tcmalloc: large alloc 1279918080 bytes == 0x5613ae060000 @  0x7f432c507b6b 0x7f432c527379 0x7f42cb19a25e 0x7f42cb19b9d2 0x7f4308a638a5 0x7f4319c79699 0x5613a89bcc25 0x5613a897d7f2 0x5613a89f0d75 0x5613a89ebb0e 0x5613a897ee11 0x5613a897f231 0x5613a89ee1e6 0x5613a89ebe0d 0x5613a897e77a 0x5613a89ecc9e 0x5613a897e69a 0x5613a89ecc9e 0x5613a89ebe0d 0x5613a897e77a 0x5613a89eca45 0x5613a89ebb0e 0x5613a897e77a 0x5613a89f0e50 0x5613a897e69a 0x5613a89eca45 0x5613a89ebb0e 0x5613a89eb813 0x5613a8ab5592 0x5613a8ab590d 0x5613a8ab57b6\n",
            "Epoch 1 model saved!\n",
            "\n",
            "Test set (1 samples): Average loss: 5.8137, Accuracy: 0.00%\n",
            "\n",
            "Epoch 2 model saved!\n",
            "\n",
            "Test set (1 samples): Average loss: 7.4973, Accuracy: 0.00%\n",
            "\n",
            "Epoch 3 model saved!\n",
            "\n",
            "Test set (1 samples): Average loss: 9.5731, Accuracy: 0.00%\n",
            "\n",
            "Epoch 4 model saved!\n",
            "\n",
            "Test set (1 samples): Average loss: 11.9064, Accuracy: 0.00%\n",
            "\n",
            "Epoch 5 model saved!\n",
            "\n",
            "Test set (1 samples): Average loss: 14.4605, Accuracy: 0.00%\n",
            "\n",
            "Epoch 6 model saved!\n",
            "\n",
            "Test set (1 samples): Average loss: 17.1577, Accuracy: 0.00%\n",
            "\n",
            "Epoch 7 model saved!\n",
            "\n",
            "Test set (1 samples): Average loss: 20.0269, Accuracy: 0.00%\n",
            "\n",
            "Epoch 8 model saved!\n",
            "\n",
            "Test set (1 samples): Average loss: 23.0012, Accuracy: 0.00%\n",
            "\n",
            "Epoch 9 model saved!\n",
            "\n",
            "Test set (1 samples): Average loss: 26.0582, Accuracy: 0.00%\n",
            "\n",
            "Epoch 10 model saved!\n",
            "\n",
            "Test set (1 samples): Average loss: 29.1744, Accuracy: 0.00%\n",
            "\n",
            "Traceback (most recent call last):\n",
            "  File \"/content/drive/MyDrive/video-classification-99ebf204f0b1d737e38bc0d8b65aca128a57d7b1/Conv3D/UCF101_3DCNN.py\", line 198, in <module>\n"
          ],
          "name": "stdout"
        }
      ]
    },
    {
      "cell_type": "code",
      "metadata": {
        "id": "q_ohycFmbIZK"
      },
      "source": [
        ""
      ],
      "execution_count": null,
      "outputs": []
    }
  ]
}